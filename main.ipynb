{
 "cells": [
  {
   "cell_type": "code",
   "execution_count": 18,
   "metadata": {},
   "outputs": [
    {
     "name": "stdout",
     "output_type": "stream",
     "text": [
      "          id    age  gender  height  weight  ap_hi  ap_lo  cholesterol  gluc  \\\n",
      "0          0  18393       2     168    62.0    110     80            1     1   \n",
      "1          1  20228       1     156    85.0    140     90            3     1   \n",
      "2          2  18857       1     165    64.0    130     70            3     1   \n",
      "3          3  17623       2     169    82.0    150    100            1     1   \n",
      "4          4  17474       1     156    56.0    100     60            1     1   \n",
      "...      ...    ...     ...     ...     ...    ...    ...          ...   ...   \n",
      "69995  99993  19240       2     168    76.0    120     80            1     1   \n",
      "69996  99995  22601       1     158   126.0    140     90            2     2   \n",
      "69997  99996  19066       2     183   105.0    180     90            3     1   \n",
      "69998  99998  22431       1     163    72.0    135     80            1     2   \n",
      "69999  99999  20540       1     170    72.0    120     80            2     1   \n",
      "\n",
      "       smoke  alco  active  cardio  \n",
      "0          0     0       1       0  \n",
      "1          0     0       1       1  \n",
      "2          0     0       0       1  \n",
      "3          0     0       1       1  \n",
      "4          0     0       0       0  \n",
      "...      ...   ...     ...     ...  \n",
      "69995      1     0       1       0  \n",
      "69996      0     0       1       1  \n",
      "69997      0     1       0       1  \n",
      "69998      0     0       0       1  \n",
      "69999      0     0       1       0  \n",
      "\n",
      "[70000 rows x 13 columns]\n"
     ]
    }
   ],
   "source": [
    "import pandas as pd \n",
    "import seaborn as sns\n",
    "\n",
    "\n",
    "df = pd.read_csv('medical_examination.csv')\n",
    "print(df)"
   ]
  },
  {
   "cell_type": "code",
   "execution_count": null,
   "metadata": {},
   "outputs": [],
   "source": []
  },
  {
   "cell_type": "code",
   "execution_count": 19,
   "metadata": {},
   "outputs": [
    {
     "name": "stdout",
     "output_type": "stream",
     "text": [
      "id\n",
      "age\n",
      "gender\n",
      "height\n",
      "weight\n",
      "ap_hi\n",
      "ap_lo\n",
      "cholesterol\n",
      "gluc\n",
      "smoke\n",
      "alco\n",
      "active\n",
      "cardio\n"
     ]
    }
   ],
   "source": [
    "column_names_list = df.columns.tolist()\n",
    "for i in column_names_list:\n",
    "    print(i)\n",
    "\n",
    "\n"
   ]
  },
  {
   "cell_type": "code",
   "execution_count": 20,
   "metadata": {},
   "outputs": [
    {
     "name": "stdout",
     "output_type": "stream",
     "text": [
      "          id    age  gender  height  weight  ap_hi  ap_lo  cholesterol  gluc  \\\n",
      "0          0  18393       2     168    62.0    110     80            1     1   \n",
      "1          1  20228       1     156    85.0    140     90            3     1   \n",
      "2          2  18857       1     165    64.0    130     70            3     1   \n",
      "3          3  17623       2     169    82.0    150    100            1     1   \n",
      "4          4  17474       1     156    56.0    100     60            1     1   \n",
      "...      ...    ...     ...     ...     ...    ...    ...          ...   ...   \n",
      "69995  99993  19240       2     168    76.0    120     80            1     1   \n",
      "69996  99995  22601       1     158   126.0    140     90            2     2   \n",
      "69997  99996  19066       2     183   105.0    180     90            3     1   \n",
      "69998  99998  22431       1     163    72.0    135     80            1     2   \n",
      "69999  99999  20540       1     170    72.0    120     80            2     1   \n",
      "\n",
      "       smoke  alco  active  cardio  overweight  \n",
      "0          0     0       1       0           0  \n",
      "1          0     0       1       1           1  \n",
      "2          0     0       0       1           0  \n",
      "3          0     0       1       1           1  \n",
      "4          0     0       0       0           0  \n",
      "...      ...   ...     ...     ...         ...  \n",
      "69995      1     0       1       0           1  \n",
      "69996      0     0       1       1           1  \n",
      "69997      0     1       0       1           1  \n",
      "69998      0     0       0       1           1  \n",
      "69999      0     0       1       0           0  \n",
      "\n",
      "[70000 rows x 14 columns]\n"
     ]
    }
   ],
   "source": [
    "## overweight column \n",
    "df[\"overweight\"] = (df[\"weight\"]/(df[\"height\"]/100) **2).apply(lambda x:1 if x >25 else 0)\n",
    "print(df)"
   ]
  },
  {
   "cell_type": "code",
   "execution_count": 21,
   "metadata": {},
   "outputs": [
    {
     "name": "stdout",
     "output_type": "stream",
     "text": [
      "          id    age  gender  height  weight  ap_hi  ap_lo  cholesterol  gluc  \\\n",
      "0          0  18393       2     168    62.0    110     80            0     0   \n",
      "1          1  20228       1     156    85.0    140     90            1     0   \n",
      "2          2  18857       1     165    64.0    130     70            1     0   \n",
      "3          3  17623       2     169    82.0    150    100            0     0   \n",
      "4          4  17474       1     156    56.0    100     60            0     0   \n",
      "...      ...    ...     ...     ...     ...    ...    ...          ...   ...   \n",
      "69995  99993  19240       2     168    76.0    120     80            0     0   \n",
      "69996  99995  22601       1     158   126.0    140     90            1     1   \n",
      "69997  99996  19066       2     183   105.0    180     90            1     0   \n",
      "69998  99998  22431       1     163    72.0    135     80            0     1   \n",
      "69999  99999  20540       1     170    72.0    120     80            1     0   \n",
      "\n",
      "       smoke  alco  active  cardio  overweight  \n",
      "0          0     0       1       0           0  \n",
      "1          0     0       1       1           1  \n",
      "2          0     0       0       1           0  \n",
      "3          0     0       1       1           1  \n",
      "4          0     0       0       0           0  \n",
      "...      ...   ...     ...     ...         ...  \n",
      "69995      1     0       1       0           1  \n",
      "69996      0     0       1       1           1  \n",
      "69997      0     1       0       1           1  \n",
      "69998      0     0       0       1           1  \n",
      "69999      0     0       1       0           0  \n",
      "\n",
      "[70000 rows x 14 columns]\n"
     ]
    }
   ],
   "source": [
    "df[\"cholesterol\"] = df[\"cholesterol\"].apply(lambda x:0 if x ==1 else 1)\n",
    "df[\"gluc\"] = df[\"gluc\"].apply(lambda x:0 if x ==1 else 1)\n",
    "print(df)\n"
   ]
  },
  {
   "cell_type": "code",
   "execution_count": 24,
   "metadata": {},
   "outputs": [
    {
     "ename": "KeyError",
     "evalue": "'cardia'",
     "output_type": "error",
     "traceback": [
      "\u001b[1;31m---------------------------------------------------------------------------\u001b[0m",
      "\u001b[1;31mKeyError\u001b[0m                                  Traceback (most recent call last)",
      "File \u001b[1;32mc:\\Program Files\\Python310\\lib\\site-packages\\pandas\\core\\indexes\\base.py:3791\u001b[0m, in \u001b[0;36mIndex.get_loc\u001b[1;34m(self, key)\u001b[0m\n\u001b[0;32m   3790\u001b[0m \u001b[38;5;28;01mtry\u001b[39;00m:\n\u001b[1;32m-> 3791\u001b[0m     \u001b[38;5;28;01mreturn\u001b[39;00m \u001b[38;5;28;43mself\u001b[39;49m\u001b[38;5;241;43m.\u001b[39;49m\u001b[43m_engine\u001b[49m\u001b[38;5;241;43m.\u001b[39;49m\u001b[43mget_loc\u001b[49m\u001b[43m(\u001b[49m\u001b[43mcasted_key\u001b[49m\u001b[43m)\u001b[49m\n\u001b[0;32m   3792\u001b[0m \u001b[38;5;28;01mexcept\u001b[39;00m \u001b[38;5;167;01mKeyError\u001b[39;00m \u001b[38;5;28;01mas\u001b[39;00m err:\n",
      "File \u001b[1;32mindex.pyx:152\u001b[0m, in \u001b[0;36mpandas._libs.index.IndexEngine.get_loc\u001b[1;34m()\u001b[0m\n",
      "File \u001b[1;32mindex.pyx:181\u001b[0m, in \u001b[0;36mpandas._libs.index.IndexEngine.get_loc\u001b[1;34m()\u001b[0m\n",
      "File \u001b[1;32mpandas\\_libs\\hashtable_class_helper.pxi:7080\u001b[0m, in \u001b[0;36mpandas._libs.hashtable.PyObjectHashTable.get_item\u001b[1;34m()\u001b[0m\n",
      "File \u001b[1;32mpandas\\_libs\\hashtable_class_helper.pxi:7088\u001b[0m, in \u001b[0;36mpandas._libs.hashtable.PyObjectHashTable.get_item\u001b[1;34m()\u001b[0m\n",
      "\u001b[1;31mKeyError\u001b[0m: 'cardia'",
      "\nThe above exception was the direct cause of the following exception:\n",
      "\u001b[1;31mKeyError\u001b[0m                                  Traceback (most recent call last)",
      "Cell \u001b[1;32mIn[24], line 7\u001b[0m\n\u001b[0;32m      3\u001b[0m df_cat[\u001b[38;5;124m\"\u001b[39m\u001b[38;5;124mtotal\u001b[39m\u001b[38;5;124m\"\u001b[39m] \u001b[38;5;241m=\u001b[39m \u001b[38;5;241m1\u001b[39m\n\u001b[0;32m      5\u001b[0m df_cat \u001b[38;5;241m=\u001b[39m df_cat\u001b[38;5;241m.\u001b[39mgroupby([\u001b[38;5;124m\"\u001b[39m\u001b[38;5;124mcardio\u001b[39m\u001b[38;5;124m\"\u001b[39m, \u001b[38;5;124m\"\u001b[39m\u001b[38;5;124mvariable\u001b[39m\u001b[38;5;124m\"\u001b[39m, \u001b[38;5;124m\"\u001b[39m\u001b[38;5;124mvalue\u001b[39m\u001b[38;5;124m\"\u001b[39m], as_index\u001b[38;5;241m=\u001b[39m\u001b[38;5;28;01mFalse\u001b[39;00m)\u001b[38;5;241m.\u001b[39mcount()\n\u001b[1;32m----> 7\u001b[0m fig \u001b[38;5;241m=\u001b[39m \u001b[43msns\u001b[49m\u001b[38;5;241;43m.\u001b[39;49m\u001b[43mcatplot\u001b[49m\u001b[43m(\u001b[49m\u001b[43mx\u001b[49m\u001b[38;5;241;43m=\u001b[39;49m\u001b[38;5;124;43m\"\u001b[39;49m\u001b[38;5;124;43mvariable\u001b[39;49m\u001b[38;5;124;43m\"\u001b[39;49m\u001b[43m,\u001b[49m\u001b[43m \u001b[49m\u001b[43my\u001b[49m\u001b[38;5;241;43m=\u001b[39;49m\u001b[38;5;124;43m\"\u001b[39;49m\u001b[38;5;124;43mtotal\u001b[39;49m\u001b[38;5;124;43m\"\u001b[39;49m\u001b[43m,\u001b[49m\u001b[43m \u001b[49m\u001b[43mdata\u001b[49m\u001b[38;5;241;43m=\u001b[39;49m\u001b[43mdf_cat\u001b[49m\u001b[43m,\u001b[49m\u001b[43m \u001b[49m\u001b[43mhue\u001b[49m\u001b[38;5;241;43m=\u001b[39;49m\u001b[38;5;124;43m\"\u001b[39;49m\u001b[38;5;124;43mvalue\u001b[39;49m\u001b[38;5;124;43m\"\u001b[39;49m\u001b[43m,\u001b[49m\u001b[43m \u001b[49m\u001b[43mkind\u001b[49m\u001b[38;5;241;43m=\u001b[39;49m\u001b[38;5;124;43m\"\u001b[39;49m\u001b[38;5;124;43mbar\u001b[39;49m\u001b[38;5;124;43m\"\u001b[39;49m\u001b[43m,\u001b[49m\u001b[43m \u001b[49m\u001b[43mcol\u001b[49m\u001b[38;5;241;43m=\u001b[39;49m\u001b[38;5;124;43m\"\u001b[39;49m\u001b[38;5;124;43mcardia\u001b[39;49m\u001b[38;5;124;43m\"\u001b[39;49m\u001b[43m)\u001b[49m\u001b[38;5;241m.\u001b[39mfig\n\u001b[0;32m      9\u001b[0m fig\u001b[38;5;241m.\u001b[39msavefig(\u001b[38;5;124m\"\u001b[39m\u001b[38;5;124mcatplot.png\u001b[39m\u001b[38;5;124m\"\u001b[39m)\n",
      "File \u001b[1;32mc:\\Program Files\\Python310\\lib\\site-packages\\seaborn\\categorical.py:3241\u001b[0m, in \u001b[0;36mcatplot\u001b[1;34m(data, x, y, hue, row, col, col_wrap, estimator, errorbar, n_boot, units, seed, order, hue_order, row_order, col_order, height, aspect, kind, native_scale, formatter, orient, color, palette, hue_norm, legend, legend_out, sharex, sharey, margin_titles, facet_kws, ci, **kwargs)\u001b[0m\n\u001b[0;32m   3235\u001b[0m     plot_kws\u001b[38;5;241m.\u001b[39mupdate(\n\u001b[0;32m   3236\u001b[0m         estimator\u001b[38;5;241m=\u001b[39mestimator, errorbar\u001b[38;5;241m=\u001b[39merrorbar,\n\u001b[0;32m   3237\u001b[0m         n_boot\u001b[38;5;241m=\u001b[39mn_boot, units\u001b[38;5;241m=\u001b[39munits, seed\u001b[38;5;241m=\u001b[39mseed,\n\u001b[0;32m   3238\u001b[0m     )\n\u001b[0;32m   3240\u001b[0m \u001b[38;5;66;03m# Initialize the facets\u001b[39;00m\n\u001b[1;32m-> 3241\u001b[0m g \u001b[38;5;241m=\u001b[39m FacetGrid(\u001b[38;5;241m*\u001b[39m\u001b[38;5;241m*\u001b[39mfacet_kws)\n\u001b[0;32m   3243\u001b[0m \u001b[38;5;66;03m# Draw the plot onto the facets\u001b[39;00m\n\u001b[0;32m   3244\u001b[0m g\u001b[38;5;241m.\u001b[39mmap_dataframe(plot_func, x\u001b[38;5;241m=\u001b[39mx, y\u001b[38;5;241m=\u001b[39my, hue\u001b[38;5;241m=\u001b[39mhue, \u001b[38;5;241m*\u001b[39m\u001b[38;5;241m*\u001b[39mplot_kws)\n",
      "File \u001b[1;32mc:\\Program Files\\Python310\\lib\\site-packages\\seaborn\\axisgrid.py:396\u001b[0m, in \u001b[0;36mFacetGrid.__init__\u001b[1;34m(self, data, row, col, hue, col_wrap, sharex, sharey, height, aspect, palette, row_order, col_order, hue_order, hue_kws, dropna, legend_out, despine, margin_titles, xlim, ylim, subplot_kws, gridspec_kws)\u001b[0m\n\u001b[0;32m    394\u001b[0m     col_names \u001b[38;5;241m=\u001b[39m []\n\u001b[0;32m    395\u001b[0m \u001b[38;5;28;01melse\u001b[39;00m:\n\u001b[1;32m--> 396\u001b[0m     col_names \u001b[38;5;241m=\u001b[39m categorical_order(\u001b[43mdata\u001b[49m\u001b[43m[\u001b[49m\u001b[43mcol\u001b[49m\u001b[43m]\u001b[49m, col_order)\n\u001b[0;32m    398\u001b[0m \u001b[38;5;66;03m# Additional dict of kwarg -> list of values for mapping the hue var\u001b[39;00m\n\u001b[0;32m    399\u001b[0m hue_kws \u001b[38;5;241m=\u001b[39m hue_kws \u001b[38;5;28;01mif\u001b[39;00m hue_kws \u001b[38;5;129;01mis\u001b[39;00m \u001b[38;5;129;01mnot\u001b[39;00m \u001b[38;5;28;01mNone\u001b[39;00m \u001b[38;5;28;01melse\u001b[39;00m {}\n",
      "File \u001b[1;32mc:\\Program Files\\Python310\\lib\\site-packages\\pandas\\core\\frame.py:3893\u001b[0m, in \u001b[0;36mDataFrame.__getitem__\u001b[1;34m(self, key)\u001b[0m\n\u001b[0;32m   3891\u001b[0m \u001b[38;5;28;01mif\u001b[39;00m \u001b[38;5;28mself\u001b[39m\u001b[38;5;241m.\u001b[39mcolumns\u001b[38;5;241m.\u001b[39mnlevels \u001b[38;5;241m>\u001b[39m \u001b[38;5;241m1\u001b[39m:\n\u001b[0;32m   3892\u001b[0m     \u001b[38;5;28;01mreturn\u001b[39;00m \u001b[38;5;28mself\u001b[39m\u001b[38;5;241m.\u001b[39m_getitem_multilevel(key)\n\u001b[1;32m-> 3893\u001b[0m indexer \u001b[38;5;241m=\u001b[39m \u001b[38;5;28;43mself\u001b[39;49m\u001b[38;5;241;43m.\u001b[39;49m\u001b[43mcolumns\u001b[49m\u001b[38;5;241;43m.\u001b[39;49m\u001b[43mget_loc\u001b[49m\u001b[43m(\u001b[49m\u001b[43mkey\u001b[49m\u001b[43m)\u001b[49m\n\u001b[0;32m   3894\u001b[0m \u001b[38;5;28;01mif\u001b[39;00m is_integer(indexer):\n\u001b[0;32m   3895\u001b[0m     indexer \u001b[38;5;241m=\u001b[39m [indexer]\n",
      "File \u001b[1;32mc:\\Program Files\\Python310\\lib\\site-packages\\pandas\\core\\indexes\\base.py:3798\u001b[0m, in \u001b[0;36mIndex.get_loc\u001b[1;34m(self, key)\u001b[0m\n\u001b[0;32m   3793\u001b[0m     \u001b[38;5;28;01mif\u001b[39;00m \u001b[38;5;28misinstance\u001b[39m(casted_key, \u001b[38;5;28mslice\u001b[39m) \u001b[38;5;129;01mor\u001b[39;00m (\n\u001b[0;32m   3794\u001b[0m         \u001b[38;5;28misinstance\u001b[39m(casted_key, abc\u001b[38;5;241m.\u001b[39mIterable)\n\u001b[0;32m   3795\u001b[0m         \u001b[38;5;129;01mand\u001b[39;00m \u001b[38;5;28many\u001b[39m(\u001b[38;5;28misinstance\u001b[39m(x, \u001b[38;5;28mslice\u001b[39m) \u001b[38;5;28;01mfor\u001b[39;00m x \u001b[38;5;129;01min\u001b[39;00m casted_key)\n\u001b[0;32m   3796\u001b[0m     ):\n\u001b[0;32m   3797\u001b[0m         \u001b[38;5;28;01mraise\u001b[39;00m InvalidIndexError(key)\n\u001b[1;32m-> 3798\u001b[0m     \u001b[38;5;28;01mraise\u001b[39;00m \u001b[38;5;167;01mKeyError\u001b[39;00m(key) \u001b[38;5;28;01mfrom\u001b[39;00m \u001b[38;5;21;01merr\u001b[39;00m\n\u001b[0;32m   3799\u001b[0m \u001b[38;5;28;01mexcept\u001b[39;00m \u001b[38;5;167;01mTypeError\u001b[39;00m:\n\u001b[0;32m   3800\u001b[0m     \u001b[38;5;66;03m# If we have a listlike key, _check_indexing_error will raise\u001b[39;00m\n\u001b[0;32m   3801\u001b[0m     \u001b[38;5;66;03m#  InvalidIndexError. Otherwise we fall through and re-raise\u001b[39;00m\n\u001b[0;32m   3802\u001b[0m     \u001b[38;5;66;03m#  the TypeError.\u001b[39;00m\n\u001b[0;32m   3803\u001b[0m     \u001b[38;5;28mself\u001b[39m\u001b[38;5;241m.\u001b[39m_check_indexing_error(key)\n",
      "\u001b[1;31mKeyError\u001b[0m: 'cardia'"
     ]
    }
   ],
   "source": [
    "\n",
    "df_cat = pd.melt(df, id_vars=[\"cardio\"], value_vars=[\"cholesterol\", \"gluc\", \"smoke\", \"alco\", \"active\", \"overweight\"])\n",
    "\n",
    "df_cat[\"total\"] = 1\n",
    "\n",
    "df_cat = df_cat.groupby([\"cardio\", \"variable\", \"value\"], as_index=False).count()\n",
    "\n",
    "fig = sns.catplot(x=\"variable\", y=\"total\", data=df_cat, hue=\"value\", kind=\"bar\", col=\"cardio\").fig\n",
    "\n",
    "fig.savefig(\"catplot.png\")\n",
    "\n"
   ]
  },
  {
   "cell_type": "code",
   "execution_count": null,
   "metadata": {},
   "outputs": [],
   "source": []
  },
  {
   "cell_type": "code",
   "execution_count": null,
   "metadata": {},
   "outputs": [],
   "source": []
  }
 ],
 "metadata": {
  "kernelspec": {
   "display_name": "Python 3",
   "language": "python",
   "name": "python3"
  },
  "language_info": {
   "codemirror_mode": {
    "name": "ipython",
    "version": 3
   },
   "file_extension": ".py",
   "mimetype": "text/x-python",
   "name": "python",
   "nbconvert_exporter": "python",
   "pygments_lexer": "ipython3",
   "version": "3.10.0"
  }
 },
 "nbformat": 4,
 "nbformat_minor": 2
}
